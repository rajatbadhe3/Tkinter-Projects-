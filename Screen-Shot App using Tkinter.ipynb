{
 "cells": [
  {
   "cell_type": "code",
   "execution_count": 1,
   "id": "bce68611",
   "metadata": {},
   "outputs": [],
   "source": [
    "import time\n",
    "from tkinter import *\n",
    "import pyautogui   #we will use its screeshot feature of this library\n",
    "\n",
    "\n",
    "def scrsht():\n",
    "    name = int(round(time.time()*1000))\n",
    "    name= 'Image'+'{}.png'.format(name)\n",
    "    #time.sleep(2)\n",
    "    img = pyautogui.screenshot(name)\n",
    "    img.show()\n",
    "    root.deiconify()\n",
    "\n",
    "def delay():\n",
    "    root.withdraw()\n",
    "    root.after(1000,scrsht)\n",
    "    \n",
    "    \n",
    "root = Tk()    \n",
    "root.title('Screenshot') \n",
    "root['bg']= 'black'\n",
    "root.geometry('300x300')\n",
    "root.resizable(0,0)\n",
    "btn1 = Button(root,text = 'ScreenShot',font=('Arial',10,\"bold\"),height = 2 ,width=18,fg = 'Blue',bg = \"black\",command = delay).place(x=85,y=20)\n",
    "btn2 = Button(root,text = 'Quit',font=('Arial',10,\"bold\"),height=2,width=18,fg = 'Blue',bg = \"black\",command= quit).place(x=85,y=80)    \n",
    "\n",
    "\n",
    "\n",
    "\n",
    "\n",
    "root.mainloop()"
   ]
  },
  {
   "cell_type": "code",
   "execution_count": null,
   "id": "164b8fbd",
   "metadata": {},
   "outputs": [],
   "source": []
  }
 ],
 "metadata": {
  "kernelspec": {
   "display_name": "Python 3",
   "language": "python",
   "name": "python3"
  },
  "language_info": {
   "codemirror_mode": {
    "name": "ipython",
    "version": 3
   },
   "file_extension": ".py",
   "mimetype": "text/x-python",
   "name": "python",
   "nbconvert_exporter": "python",
   "pygments_lexer": "ipython3",
   "version": "3.8.8"
  }
 },
 "nbformat": 4,
 "nbformat_minor": 5
}
